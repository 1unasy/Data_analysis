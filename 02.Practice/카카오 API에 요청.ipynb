{
 "cells": [
  {
   "cell_type": "markdown",
   "id": "3d94ffd2",
   "metadata": {},
   "source": [
    "# 카카오 API에 요청(request)\n",
    "- `requests`(라는 라이브러리 사용할 것임)\n",
    "- `pip install requests`\n",
    "    - 파이썬 환경에서 특정 url로 요청, 응답까지 받아주는 모듈"
   ]
  },
  {
   "cell_type": "code",
   "execution_count": 1,
   "id": "40a654b3",
   "metadata": {},
   "outputs": [],
   "source": [
    "import requests"
   ]
  },
  {
   "cell_type": "markdown",
   "id": "1d9fccee",
   "metadata": {},
   "source": [
    "### 요청 url 설정하기\n",
    "`https://dapi.kakao.com/v2/search/web?query=오미크론&page=2`\n",
    "\n",
    "- `https://dapi.kakao.com/v2/search/web?` : 요청할 url (식당에 가서 메뉴까지 주문)\n",
    "- `query=오미크론&page=2` : Parameter 전달부분\n"
   ]
  },
  {
   "cell_type": "code",
   "execution_count": 3,
   "id": "193071bd",
   "metadata": {},
   "outputs": [],
   "source": [
    "# URL 설정하기 # ? 이후 공간 all for parameter # parameter name : parameter value (k-v 형식)\n",
    "KAKAO_WEB_SEARCH_URL = \"https://dapi.kakao.com/v2/search/web?query=오미크론&page=2\"\n",
    "\n",
    "# REST API KEY 설정하기\n",
    "KAKAO_API_KEY = \"acf82277a3bb40d9188e8023632e4cc0\""
   ]
  },
  {
   "cell_type": "markdown",
   "id": "68cb00c2",
   "metadata": {},
   "source": [
    "카카오 API에 요청하기 위해서는 인증 정보가 필요! `KAKAO_API_KEY`를 활용\n",
    "- 요청 `header`에 넣어서 인증 정보를 요청할 때 같이 보낸다."
   ]
  },
  {
   "cell_type": "code",
   "execution_count": 4,
   "id": "58013390",
   "metadata": {},
   "outputs": [
    {
     "data": {
      "text/plain": [
       "{'Authorization': 'KakaoAK acf82277a3bb40d9188e8023632e4cc0'}"
      ]
     },
     "execution_count": 4,
     "metadata": {},
     "output_type": "execute_result"
    }
   ],
   "source": [
    "headers = {\n",
    "    \"Authorization\" : \"KakaoAK {}\".format(KAKAO_API_KEY)\n",
    "}\n",
    "\n",
    "headers"
   ]
  },
  {
   "cell_type": "markdown",
   "id": "e2936897",
   "metadata": {},
   "source": [
    "`request` - `response` 확인하기"
   ]
  },
  {
   "cell_type": "code",
   "execution_count": 5,
   "id": "cd973188",
   "metadata": {},
   "outputs": [
    {
     "data": {
      "text/plain": [
       "<Response [200]>"
      ]
     },
     "execution_count": 5,
     "metadata": {},
     "output_type": "execute_result"
    }
   ],
   "source": [
    "response = requests.get(KAKAO_WEB_SEARCH_URL, headers=headers)\n",
    "response"
   ]
  },
  {
   "cell_type": "markdown",
   "id": "093ad810",
   "metadata": {},
   "source": [
    "응답 코드 (Response Code)\n",
    "- `1xx` : 처리 중\n",
    "- **`2xx`** : 처리 성공 (Success)\n",
    "- `3xx` : 추가 동작 필요 (Redirection)\n",
    "- **`4xx`** : 클라이언트 오류 (Client Error)\n",
    "    - `404`: Page Not Found ( 잘못된 url로 요청함 )\n",
    "- **`5xx`** : 서버 오류 (Server Error)"
   ]
  },
  {
   "cell_type": "code",
   "execution_count": 7,
   "id": "5fe7f103",
   "metadata": {},
   "outputs": [
    {
     "data": {
      "text/plain": [
       "{'documents': [{'contents': '28일 이탈리아 과학자들이 ‘<b>오미크론</b>’ 균주에서 스파이크단백질이 어떻게 생겼는지를 보여주는 첫 번째 이미지를 공개했다. 로마에 소재한 아기예수 소아과 병원(hospital pediátrico Infant Jesus) 복합...',\n",
       "   'datetime': '2021-11-29T00:00:00.000+09:00',\n",
       "   'title': '새로운 변이체 ‘<b>오미크론</b>’의 정체는? – Sciencetimes',\n",
       "   'url': 'https://www.sciencetimes.co.kr/news/%ec%83%88%eb%a1%9c%ec%9a%b4-%eb%b3%80%ec%9d%b4%ec%b2%b4-%ec%98%a4%eb%af%b8%ed%81%ac%eb%a1%a0%ec%9d%98-%ec%a0%95%ec%b2%b4%eb%8a%94/'},\n",
       "  {'contents': '(서울=뉴스1) 강승지 기자 = 코로나19 <b>오미크론</b> 변이 감염 의심부부와 같은 항공기에 탑승했던 또 다른 코로나19 확진자는 델타 변이에 감염된 것으로 1일 저녁 최종 확인됐다. 중앙방역대책본부(방대본)는...',\n",
       "   'datetime': '2021-12-01T19:16:36.000+09:00',\n",
       "   'title': '<b>오미크론</b> 의심 부부와 같은 항공기 확진자, 델타 변이로 확인',\n",
       "   'url': 'https://www.dispatch.co.kr/2176275'},\n",
       "  {'contents': '트랜스넷은 열차를 개조해 코로나19 예방접종센터를 만들었다.ⓒ로이터=뉴스1 코로나19 새로운 변이 ‘<b>오미크론</b>’에 대해 세계 각국이 강한 위험성을 경고하고 있다. ‘<b>오미크론</b>’이 확산되고 있는 남아프리카...',\n",
       "   'datetime': '2021-11-27T12:50:14.000+09:00',\n",
       "   'title': '세계 각국, <b>오미크론</b> 비상 경고...입출국 통제 조치 - 민중의소리',\n",
       "   'url': 'http://www.vop.co.kr/A00001603800.html'},\n",
       "  {'contents': '북, &#39;<b>오미크론</b>&#39; 변이 세계적 확산 경계..&#39;고도의 긴장 견지해야&#39; SNS 기사보내기 SNS 기사보내기 스크롤 이동 상태바 북, &#39;<b>오미크론</b>&#39; 변이 세계적 확산 경계..&#39;고도의 긴장 견지해야&#39; 북한은 최근 <b>오미크론</b> 변이...',\n",
       "   'datetime': '2021-11-29T11:53:29.000+09:00',\n",
       "   'title': '북, &#39;<b>오미크론</b>&#39; 변이 세계적 확산 경계..&#39;고도의 긴장 견지해야&#39;',\n",
       "   'url': 'http://www.tongilnews.com/news/articleView.html?idxno=203753'},\n",
       "  {'contents': '뉴스1 신종 코로나바이러스 감염증(코로나19) 변이 바이러스인 <b>오미크론</b> 확산 우려가 커지고 있는 30일 인천국제공항 1터미널에서 여행객들이 입국하고 있다 나이지리아를 방문한 인천 거주 부부가 신종 코로나...',\n",
       "   'datetime': '2021-11-30T21:42:34.000+09:00',\n",
       "   'title': '국내서 첫 ‘<b>오미크론</b> 감염 의심자’가 발생했고, 확실한 검사 결과가 나오는 시기 (ft.나이지리아 방문...',\n",
       "   'url': 'https://www.huffingtonpost.kr/entry/omikron_kr_61a616abe4b044a1cc1a2804'},\n",
       "  {'contents': '표시된 부분)은 &#39;0&#39;명으로 기록돼 있다. &#39;누적 확진자 0명&#39;을 이어가고 있는 북한도 아프리카 남부의 <b>오미크론</b>(ο·Omicron) 변이 발생 소식에 촉각을 세우고 있다. 북한은 코로나19(COVID-19) 방역을 위해 국경...',\n",
       "   'datetime': '2021-11-28T13:37:00.000+09:00',\n",
       "   'title': '<b>오미크론</b> 변이에 촉각 &#39;확진자 0명&#39; 나라…北 &#34;새 변이 급속 전파&#34;',\n",
       "   'url': 'https://the300.mt.co.kr/newsView.html?no=2021112812042674617&MNA'},\n",
       "  {'contents': '접종하는 모습. 2021.11.26.] 세계보건기구(WHO)가 새로운 코로나 변이 바이러스(B.1.1.529)를 ‘<b>오미크론</b>’(Omicron. 그리스 알파벳 15번째 글자)으로 명명하고 ‘우려 변이’로 분류했다. WHO는 26일 긴급회의...',\n",
       "   'datetime': '2021-11-27T12:08:35.000+09:00',\n",
       "   'title': '코로나19 새 변이 ‘<b>오미크론</b>’, WHO ‘우려변이’ 지정 - 민중의소리',\n",
       "   'url': 'http://www.vop.co.kr/A00001603797.html'},\n",
       "  {'contents': '세계 곳곳에서 <b>오미크론</b> 변이 바이러스가 확산되고 있다는 소식에 한때 급락했던 각국 증시는 <b>오미크론</b> 관련 소식을 소화하며 다양한 모습을 보이고 있다. <b>오미크론</b> 변이의 증상이 경미하며, 오히려 부양책을...',\n",
       "   'datetime': '2021-11-30T15:06:40.000+09:00',\n",
       "   'title': '[<b>오미크론</b> 공포] <b>오미크론</b> 변이에 흔들리는 세계 증시',\n",
       "   'url': 'https://www.ppomppu.co.kr/zboard/view.php?id=news_society&no=153987'},\n",
       "  {'contents': '있습니다&gt; [서울=뉴시스]이재준 기자 = 일본에서 코로나19 감염이 확연히 감소한 가운데 신규환자가 <b>오미크론</b> 변이 1명을 포함해 132명이 발병하고 사망자는 2명이 나왔다. NHK와 지지(時事) 통신 등은 각 지방...',\n",
       "   'datetime': '2021-11-30T21:58:49.000+09:00',\n",
       "   'title': '日 코로나19 신규감염 132명·<b>오미크론</b> 1명...누적 172만7675명',\n",
       "   'url': 'https://news.zum.com/articles/72283842?cm=front_nb&selectTab=total1&r=3&thumb=1'},\n",
       "  {'contents': '<b>오미크론</b> 변이 공식보고 8일만에 국내 유입…확산 가능성 초비상 나이지리아 부부·지인 3명 외에 다른 해외입국 50대 여성 2명도 감염 정부, 오는 3일부터 2주간 입국자 전원 ‘10일 격리조치’ 시행 1일 인천...',\n",
       "   'datetime': '2021-12-02T08:31:39.000+09:00',\n",
       "   'title': '신규 확진자 5266명, 연일 최다…<b>오미크론</b> 국내도 뚫려 &#39;일상회복 경고등&#39; [<b>오미크론</b> 국내 유입]',\n",
       "   'url': 'http://news.heraldcorp.com/view.php?ud=20211202000123'}],\n",
       " 'meta': {'is_end': False, 'pageable_count': 375, 'total_count': 27189}}"
      ]
     },
     "execution_count": 7,
     "metadata": {},
     "output_type": "execute_result"
    }
   ],
   "source": [
    "# json 형식으로 데이터를 받기로 했으니까 content가 아니고, json()으로 받기\n",
    "datas = response.json()\n",
    "datas"
   ]
  },
  {
   "cell_type": "markdown",
   "id": "b9f72641",
   "metadata": {},
   "source": [
    "## JSON (Javascript Object Notation)\n",
    "- 자바스크립트 객체 표현 방식\n",
    "- 자바스크립트 객체는 파이썬의 **dict**와 굉장히 흡사하다."
   ]
  },
  {
   "cell_type": "code",
   "execution_count": 8,
   "id": "63b98190",
   "metadata": {},
   "outputs": [
    {
     "data": {
      "text/plain": [
       "[{'contents': '28일 이탈리아 과학자들이 ‘<b>오미크론</b>’ 균주에서 스파이크단백질이 어떻게 생겼는지를 보여주는 첫 번째 이미지를 공개했다. 로마에 소재한 아기예수 소아과 병원(hospital pediátrico Infant Jesus) 복합...',\n",
       "  'datetime': '2021-11-29T00:00:00.000+09:00',\n",
       "  'title': '새로운 변이체 ‘<b>오미크론</b>’의 정체는? – Sciencetimes',\n",
       "  'url': 'https://www.sciencetimes.co.kr/news/%ec%83%88%eb%a1%9c%ec%9a%b4-%eb%b3%80%ec%9d%b4%ec%b2%b4-%ec%98%a4%eb%af%b8%ed%81%ac%eb%a1%a0%ec%9d%98-%ec%a0%95%ec%b2%b4%eb%8a%94/'},\n",
       " {'contents': '(서울=뉴스1) 강승지 기자 = 코로나19 <b>오미크론</b> 변이 감염 의심부부와 같은 항공기에 탑승했던 또 다른 코로나19 확진자는 델타 변이에 감염된 것으로 1일 저녁 최종 확인됐다. 중앙방역대책본부(방대본)는...',\n",
       "  'datetime': '2021-12-01T19:16:36.000+09:00',\n",
       "  'title': '<b>오미크론</b> 의심 부부와 같은 항공기 확진자, 델타 변이로 확인',\n",
       "  'url': 'https://www.dispatch.co.kr/2176275'},\n",
       " {'contents': '트랜스넷은 열차를 개조해 코로나19 예방접종센터를 만들었다.ⓒ로이터=뉴스1 코로나19 새로운 변이 ‘<b>오미크론</b>’에 대해 세계 각국이 강한 위험성을 경고하고 있다. ‘<b>오미크론</b>’이 확산되고 있는 남아프리카...',\n",
       "  'datetime': '2021-11-27T12:50:14.000+09:00',\n",
       "  'title': '세계 각국, <b>오미크론</b> 비상 경고...입출국 통제 조치 - 민중의소리',\n",
       "  'url': 'http://www.vop.co.kr/A00001603800.html'},\n",
       " {'contents': '북, &#39;<b>오미크론</b>&#39; 변이 세계적 확산 경계..&#39;고도의 긴장 견지해야&#39; SNS 기사보내기 SNS 기사보내기 스크롤 이동 상태바 북, &#39;<b>오미크론</b>&#39; 변이 세계적 확산 경계..&#39;고도의 긴장 견지해야&#39; 북한은 최근 <b>오미크론</b> 변이...',\n",
       "  'datetime': '2021-11-29T11:53:29.000+09:00',\n",
       "  'title': '북, &#39;<b>오미크론</b>&#39; 변이 세계적 확산 경계..&#39;고도의 긴장 견지해야&#39;',\n",
       "  'url': 'http://www.tongilnews.com/news/articleView.html?idxno=203753'},\n",
       " {'contents': '뉴스1 신종 코로나바이러스 감염증(코로나19) 변이 바이러스인 <b>오미크론</b> 확산 우려가 커지고 있는 30일 인천국제공항 1터미널에서 여행객들이 입국하고 있다 나이지리아를 방문한 인천 거주 부부가 신종 코로나...',\n",
       "  'datetime': '2021-11-30T21:42:34.000+09:00',\n",
       "  'title': '국내서 첫 ‘<b>오미크론</b> 감염 의심자’가 발생했고, 확실한 검사 결과가 나오는 시기 (ft.나이지리아 방문...',\n",
       "  'url': 'https://www.huffingtonpost.kr/entry/omikron_kr_61a616abe4b044a1cc1a2804'},\n",
       " {'contents': '표시된 부분)은 &#39;0&#39;명으로 기록돼 있다. &#39;누적 확진자 0명&#39;을 이어가고 있는 북한도 아프리카 남부의 <b>오미크론</b>(ο·Omicron) 변이 발생 소식에 촉각을 세우고 있다. 북한은 코로나19(COVID-19) 방역을 위해 국경...',\n",
       "  'datetime': '2021-11-28T13:37:00.000+09:00',\n",
       "  'title': '<b>오미크론</b> 변이에 촉각 &#39;확진자 0명&#39; 나라…北 &#34;새 변이 급속 전파&#34;',\n",
       "  'url': 'https://the300.mt.co.kr/newsView.html?no=2021112812042674617&MNA'},\n",
       " {'contents': '접종하는 모습. 2021.11.26.] 세계보건기구(WHO)가 새로운 코로나 변이 바이러스(B.1.1.529)를 ‘<b>오미크론</b>’(Omicron. 그리스 알파벳 15번째 글자)으로 명명하고 ‘우려 변이’로 분류했다. WHO는 26일 긴급회의...',\n",
       "  'datetime': '2021-11-27T12:08:35.000+09:00',\n",
       "  'title': '코로나19 새 변이 ‘<b>오미크론</b>’, WHO ‘우려변이’ 지정 - 민중의소리',\n",
       "  'url': 'http://www.vop.co.kr/A00001603797.html'},\n",
       " {'contents': '세계 곳곳에서 <b>오미크론</b> 변이 바이러스가 확산되고 있다는 소식에 한때 급락했던 각국 증시는 <b>오미크론</b> 관련 소식을 소화하며 다양한 모습을 보이고 있다. <b>오미크론</b> 변이의 증상이 경미하며, 오히려 부양책을...',\n",
       "  'datetime': '2021-11-30T15:06:40.000+09:00',\n",
       "  'title': '[<b>오미크론</b> 공포] <b>오미크론</b> 변이에 흔들리는 세계 증시',\n",
       "  'url': 'https://www.ppomppu.co.kr/zboard/view.php?id=news_society&no=153987'},\n",
       " {'contents': '있습니다&gt; [서울=뉴시스]이재준 기자 = 일본에서 코로나19 감염이 확연히 감소한 가운데 신규환자가 <b>오미크론</b> 변이 1명을 포함해 132명이 발병하고 사망자는 2명이 나왔다. NHK와 지지(時事) 통신 등은 각 지방...',\n",
       "  'datetime': '2021-11-30T21:58:49.000+09:00',\n",
       "  'title': '日 코로나19 신규감염 132명·<b>오미크론</b> 1명...누적 172만7675명',\n",
       "  'url': 'https://news.zum.com/articles/72283842?cm=front_nb&selectTab=total1&r=3&thumb=1'},\n",
       " {'contents': '<b>오미크론</b> 변이 공식보고 8일만에 국내 유입…확산 가능성 초비상 나이지리아 부부·지인 3명 외에 다른 해외입국 50대 여성 2명도 감염 정부, 오는 3일부터 2주간 입국자 전원 ‘10일 격리조치’ 시행 1일 인천...',\n",
       "  'datetime': '2021-12-02T08:31:39.000+09:00',\n",
       "  'title': '신규 확진자 5266명, 연일 최다…<b>오미크론</b> 국내도 뚫려 &#39;일상회복 경고등&#39; [<b>오미크론</b> 국내 유입]',\n",
       "  'url': 'http://news.heraldcorp.com/view.php?ud=20211202000123'}]"
      ]
     },
     "execution_count": 8,
     "metadata": {},
     "output_type": "execute_result"
    }
   ],
   "source": [
    "datas['documents']"
   ]
  },
  {
   "cell_type": "code",
   "execution_count": 9,
   "id": "eb5eda16",
   "metadata": {},
   "outputs": [
    {
     "data": {
      "text/html": [
       "<div>\n",
       "<style scoped>\n",
       "    .dataframe tbody tr th:only-of-type {\n",
       "        vertical-align: middle;\n",
       "    }\n",
       "\n",
       "    .dataframe tbody tr th {\n",
       "        vertical-align: top;\n",
       "    }\n",
       "\n",
       "    .dataframe thead th {\n",
       "        text-align: right;\n",
       "    }\n",
       "</style>\n",
       "<table border=\"1\" class=\"dataframe\">\n",
       "  <thead>\n",
       "    <tr style=\"text-align: right;\">\n",
       "      <th></th>\n",
       "      <th>contents</th>\n",
       "      <th>datetime</th>\n",
       "      <th>title</th>\n",
       "      <th>url</th>\n",
       "    </tr>\n",
       "  </thead>\n",
       "  <tbody>\n",
       "    <tr>\n",
       "      <th>0</th>\n",
       "      <td>28일 이탈리아 과학자들이 ‘&lt;b&gt;오미크론&lt;/b&gt;’ 균주에서 스파이크단백질이 어떻게...</td>\n",
       "      <td>2021-11-29T00:00:00.000+09:00</td>\n",
       "      <td>새로운 변이체 ‘&lt;b&gt;오미크론&lt;/b&gt;’의 정체는? – Sciencetimes</td>\n",
       "      <td>https://www.sciencetimes.co.kr/news/%ec%83%88%...</td>\n",
       "    </tr>\n",
       "    <tr>\n",
       "      <th>1</th>\n",
       "      <td>(서울=뉴스1) 강승지 기자 = 코로나19 &lt;b&gt;오미크론&lt;/b&gt; 변이 감염 의심부부...</td>\n",
       "      <td>2021-12-01T19:16:36.000+09:00</td>\n",
       "      <td>&lt;b&gt;오미크론&lt;/b&gt; 의심 부부와 같은 항공기 확진자, 델타 변이로 확인</td>\n",
       "      <td>https://www.dispatch.co.kr/2176275</td>\n",
       "    </tr>\n",
       "    <tr>\n",
       "      <th>2</th>\n",
       "      <td>트랜스넷은 열차를 개조해 코로나19 예방접종센터를 만들었다.ⓒ로이터=뉴스1 코로나1...</td>\n",
       "      <td>2021-11-27T12:50:14.000+09:00</td>\n",
       "      <td>세계 각국, &lt;b&gt;오미크론&lt;/b&gt; 비상 경고...입출국 통제 조치 - 민중의소리</td>\n",
       "      <td>http://www.vop.co.kr/A00001603800.html</td>\n",
       "    </tr>\n",
       "    <tr>\n",
       "      <th>3</th>\n",
       "      <td>북, &amp;#39;&lt;b&gt;오미크론&lt;/b&gt;&amp;#39; 변이 세계적 확산 경계..&amp;#39;고도...</td>\n",
       "      <td>2021-11-29T11:53:29.000+09:00</td>\n",
       "      <td>북, &amp;#39;&lt;b&gt;오미크론&lt;/b&gt;&amp;#39; 변이 세계적 확산 경계..&amp;#39;고도...</td>\n",
       "      <td>http://www.tongilnews.com/news/articleView.htm...</td>\n",
       "    </tr>\n",
       "    <tr>\n",
       "      <th>4</th>\n",
       "      <td>뉴스1 신종 코로나바이러스 감염증(코로나19) 변이 바이러스인 &lt;b&gt;오미크론&lt;/b&gt;...</td>\n",
       "      <td>2021-11-30T21:42:34.000+09:00</td>\n",
       "      <td>국내서 첫 ‘&lt;b&gt;오미크론&lt;/b&gt; 감염 의심자’가 발생했고, 확실한 검사 결과가 나...</td>\n",
       "      <td>https://www.huffingtonpost.kr/entry/omikron_kr...</td>\n",
       "    </tr>\n",
       "  </tbody>\n",
       "</table>\n",
       "</div>"
      ],
      "text/plain": [
       "                                            contents  \\\n",
       "0  28일 이탈리아 과학자들이 ‘<b>오미크론</b>’ 균주에서 스파이크단백질이 어떻게...   \n",
       "1  (서울=뉴스1) 강승지 기자 = 코로나19 <b>오미크론</b> 변이 감염 의심부부...   \n",
       "2  트랜스넷은 열차를 개조해 코로나19 예방접종센터를 만들었다.ⓒ로이터=뉴스1 코로나1...   \n",
       "3  북, &#39;<b>오미크론</b>&#39; 변이 세계적 확산 경계..&#39;고도...   \n",
       "4  뉴스1 신종 코로나바이러스 감염증(코로나19) 변이 바이러스인 <b>오미크론</b>...   \n",
       "\n",
       "                        datetime  \\\n",
       "0  2021-11-29T00:00:00.000+09:00   \n",
       "1  2021-12-01T19:16:36.000+09:00   \n",
       "2  2021-11-27T12:50:14.000+09:00   \n",
       "3  2021-11-29T11:53:29.000+09:00   \n",
       "4  2021-11-30T21:42:34.000+09:00   \n",
       "\n",
       "                                               title  \\\n",
       "0         새로운 변이체 ‘<b>오미크론</b>’의 정체는? – Sciencetimes   \n",
       "1           <b>오미크론</b> 의심 부부와 같은 항공기 확진자, 델타 변이로 확인   \n",
       "2       세계 각국, <b>오미크론</b> 비상 경고...입출국 통제 조치 - 민중의소리   \n",
       "3  북, &#39;<b>오미크론</b>&#39; 변이 세계적 확산 경계..&#39;고도...   \n",
       "4  국내서 첫 ‘<b>오미크론</b> 감염 의심자’가 발생했고, 확실한 검사 결과가 나...   \n",
       "\n",
       "                                                 url  \n",
       "0  https://www.sciencetimes.co.kr/news/%ec%83%88%...  \n",
       "1                 https://www.dispatch.co.kr/2176275  \n",
       "2             http://www.vop.co.kr/A00001603800.html  \n",
       "3  http://www.tongilnews.com/news/articleView.htm...  \n",
       "4  https://www.huffingtonpost.kr/entry/omikron_kr...  "
      ]
     },
     "execution_count": 9,
     "metadata": {},
     "output_type": "execute_result"
    }
   ],
   "source": [
    "import pandas as pd\n",
    "df = pd.DataFrame(datas['documents'])\n",
    "df.head()"
   ]
  },
  {
   "cell_type": "code",
   "execution_count": null,
   "id": "f9251b81",
   "metadata": {},
   "outputs": [],
   "source": []
  }
 ],
 "metadata": {
  "kernelspec": {
   "display_name": "Python 3",
   "language": "python",
   "name": "python3"
  },
  "language_info": {
   "codemirror_mode": {
    "name": "ipython",
    "version": 3
   },
   "file_extension": ".py",
   "mimetype": "text/x-python",
   "name": "python",
   "nbconvert_exporter": "python",
   "pygments_lexer": "ipython3",
   "version": "3.8.8"
  }
 },
 "nbformat": 4,
 "nbformat_minor": 5
}
